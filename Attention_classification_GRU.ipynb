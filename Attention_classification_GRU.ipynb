{
 "cells": [
  {
   "cell_type": "code",
   "execution_count": 2,
   "metadata": {
    "scrolled": true
   },
   "outputs": [],
   "source": [
    "import os\n",
    "import shutil\n",
    "\n",
    "import tensorflow as tf\n",
    "import tensorflow_hub as hub\n",
    "import tensorflow_text as text\n",
    "import matplotlib.ticker as ticker\n",
    "from tensorflow.keras.layers.experimental import preprocessing\n",
    "from tensorflow.keras.preprocessing.text import Tokenizer\n",
    "from tensorflow.keras.preprocessing.sequence import pad_sequences\n",
    "import numpy as np\n",
    "import matplotlib.pyplot as plt\n",
    "import pandas as pd\n",
    "from sklearn.model_selection import train_test_split\n",
    "import re\n",
    "import matplotlib.pyplot as plt\n",
    "import seaborn as sns\n",
    "from Contraction import contraction_lookup\n",
    "tf.get_logger().setLevel('ERROR')"
   ]
  },
  {
   "cell_type": "code",
   "execution_count": 2,
   "metadata": {},
   "outputs": [
    {
     "name": "stdout",
     "output_type": "stream",
     "text": [
      "Downloading data from https://ai.stanford.edu/~amaas/data/sentiment/aclImdb_v1.tar.gz\n",
      "84131840/84125825 [==============================] - 62s 1us/step\n"
     ]
    }
   ],
   "source": [
    "url = 'https://ai.stanford.edu/~amaas/data/sentiment/aclImdb_v1.tar.gz'\n",
    "\n",
    "dataset = tf.keras.utils.get_file('aclImdb_v1.tar.gz', url,\n",
    "                                  untar=True, cache_dir='.',\n",
    "                                  cache_subdir='')\n",
    "\n",
    "dataset_dir = os.path.join(os.path.dirname(dataset), 'aclImdb')\n",
    "\n",
    "train_dir = os.path.join(dataset_dir, 'train')\n",
    "\n",
    "# remove unused folders to make it easier to load the data\n",
    "remove_dir = os.path.join(train_dir, 'unsup')\n",
    "shutil.rmtree(remove_dir)"
   ]
  },
  {
   "cell_type": "code",
   "execution_count": 3,
   "metadata": {
    "scrolled": false
   },
   "outputs": [
    {
     "name": "stdout",
     "output_type": "stream",
     "text": [
      "Found 25000 files belonging to 3 classes.\n",
      "Using 20000 files for training.\n",
      "Found 25000 files belonging to 3 classes.\n",
      "Using 5000 files for validation.\n"
     ]
    }
   ],
   "source": [
    "AUTOTUNE = tf.data.AUTOTUNE\n",
    "batch_size = 20000\n",
    "seed = 42\n",
    "\n",
    "raw_train_ds = tf.keras.preprocessing.text_dataset_from_directory(\n",
    "    'aclImdb/train',\n",
    "    batch_size=batch_size,\n",
    "    validation_split=0.2,\n",
    "    subset='training',\n",
    "    seed=seed)\n",
    "\n",
    "class_names = raw_train_ds.class_names\n",
    "train_ds = raw_train_ds.cache().prefetch(buffer_size=AUTOTUNE)\n",
    "\n",
    "test_ds = tf.keras.preprocessing.text_dataset_from_directory(\n",
    "    'aclImdb/train',\n",
    "    batch_size=5000,\n",
    "    validation_split=0.2,\n",
    "    subset='validation',\n",
    "    seed=seed)\n",
    "\n",
    "test_ds = test_ds.cache().prefetch(buffer_size=AUTOTUNE)"
   ]
  },
  {
   "cell_type": "code",
   "execution_count": 4,
   "metadata": {},
   "outputs": [],
   "source": [
    "max_length = 300\n",
    "trunc_type = 'post'\n",
    "padding_type = 'post'"
   ]
  },
  {
   "cell_type": "code",
   "execution_count": 5,
   "metadata": {},
   "outputs": [],
   "source": [
    "max_vocab_size = 5000\n"
   ]
  },
  {
   "cell_type": "code",
   "execution_count": 6,
   "metadata": {},
   "outputs": [],
   "source": [
    "def preprocess(df):\n",
    "\n",
    "    inp=[t.numpy() for t,_ in df.take(20000)]\n",
    "    label=[l.numpy() for _,l in df.take(20000)]\n",
    "    inp=inp[0]\n",
    "    inp=inp.reshape(-1,1)\n",
    "    \n",
    "    inp=np.apply_along_axis(lambda x:list(map(lambda y:y.decode(\"utf-8\"),x)),1,inp).tolist()\n",
    "   \n",
    "    inp_df=pd.DataFrame(data={\"text\":inp})\n",
    "\n",
    "    inp_df['text']=inp_df['text'].apply(lambda x:\"\".join(x))\n",
    "    inp_df.loc[:,'text']=inp_df.text.replace(contraction_lookup,regex=True)\n",
    "    inp_df.loc[:,'text']=inp_df.text.replace({\" br \":\" \"},regex=True)\n",
    "    inp_df.loc[:,'text']=inp_df['text'].apply(lambda x:re.sub(\"[^a-zA-Z0-9\\\"']\",\" \",x))\n",
    "    inp_df.loc[:,'text']=inp_df['text'].apply(lambda x:x.lower())\n",
    "\n",
    "    inp_df['label']=label[0]\n",
    "    \n",
    "    return inp_df"
   ]
  },
  {
   "cell_type": "code",
   "execution_count": 7,
   "metadata": {},
   "outputs": [],
   "source": [
    "train_inp_df=preprocess(train_ds)"
   ]
  },
  {
   "cell_type": "code",
   "execution_count": 8,
   "metadata": {},
   "outputs": [],
   "source": [
    "X_train,_,y_train,_=train_test_split(train_inp_df['text'].values,train_inp_df['label'].values,test_size=0.5,stratify=train_inp_df['label'].values)"
   ]
  },
  {
   "cell_type": "code",
   "execution_count": 9,
   "metadata": {},
   "outputs": [],
   "source": [
    "train_inp_df=pd.DataFrame(data={\"text\":X_train,\"label\":y_train})"
   ]
  },
  {
   "cell_type": "code",
   "execution_count": 10,
   "metadata": {},
   "outputs": [],
   "source": [
    "train_inp=tf.constant(train_inp_df[\"text\"].values)\n",
    "train_y=tf.constant(train_inp_df['label'].values)"
   ]
  },
  {
   "cell_type": "code",
   "execution_count": 11,
   "metadata": {},
   "outputs": [],
   "source": [
    "train_text=train_inp_df['text'].values.tolist()"
   ]
  },
  {
   "cell_type": "code",
   "execution_count": 78,
   "metadata": {
    "scrolled": true
   },
   "outputs": [],
   "source": [
    "tokenizer = Tokenizer(num_words = max_vocab_size)\n",
    "tokenizer.fit_on_texts(train_text)\n",
    "word_index = tokenizer.word_index\n",
    "dict(list(word_index.items()))"
   ]
  },
  {
   "cell_type": "code",
   "execution_count": 13,
   "metadata": {
    "scrolled": true
   },
   "outputs": [],
   "source": [
    "train_sequences = tokenizer.texts_to_sequences(train_text)\n",
    "train_padded = pad_sequences(train_sequences, maxlen=max_length, padding=padding_type, truncating=trunc_type)"
   ]
  },
  {
   "cell_type": "code",
   "execution_count": 14,
   "metadata": {},
   "outputs": [],
   "source": [
    "test_inp=preprocess(test_ds)"
   ]
  },
  {
   "cell_type": "code",
   "execution_count": 15,
   "metadata": {},
   "outputs": [],
   "source": [
    "test_sequences=tokenizer.texts_to_sequences(test_inp['text'].values.tolist())\n",
    "test_padded=pad_sequences(test_sequences, maxlen=max_length, padding=padding_type, truncating=trunc_type)"
   ]
  },
  {
   "cell_type": "code",
   "execution_count": 16,
   "metadata": {},
   "outputs": [],
   "source": [
    "train_padded=tf.constant(np.array(train_padded))\n",
    "train_label=tf.constant(train_inp_df['label'].values)\n",
    "train_label=tf.keras.utils.to_categorical(train_label, num_classes=2, dtype='float32')"
   ]
  },
  {
   "cell_type": "code",
   "execution_count": 17,
   "metadata": {},
   "outputs": [],
   "source": [
    "test_padded=tf.constant(np.array(test_padded))\n",
    "test_label=tf.constant(test_inp['label'].values)\n",
    "test_label=tf.keras.utils.to_categorical(test_label, num_classes=2, dtype='float32')"
   ]
  },
  {
   "cell_type": "code",
   "execution_count": 18,
   "metadata": {},
   "outputs": [],
   "source": [
    "train_data=tf.data.Dataset.from_tensor_slices((train_padded, train_label))\n",
    "test_data=tf.data.Dataset.from_tensor_slices((test_padded, test_label))\n"
   ]
  },
  {
   "cell_type": "code",
   "execution_count": 19,
   "metadata": {},
   "outputs": [],
   "source": [
    "train_batch=train_data.batch(64)\n",
    "test_batch=test_data.batch(64)"
   ]
  },
  {
   "cell_type": "code",
   "execution_count": 20,
   "metadata": {},
   "outputs": [],
   "source": [
    "def mask_sequence(X, valid_len, value=0):\n",
    "    \"\"\"Mask irrelevant entries in sequences.\"\"\"\n",
    "    maxlen = X.shape[1]\n",
    "    mask = tf.range(start=0, limit=maxlen,\n",
    "                    dtype=tf.float32)[None, :] < tf.cast(\n",
    "                        valid_len[:, None], dtype=tf.float32)\n",
    "\n",
    "    if len(X.shape) == 3:\n",
    "        return tf.where(tf.expand_dims(mask, axis=-1), X, value)\n",
    "    else:\n",
    "        return tf.where(mask, X, value)"
   ]
  },
  {
   "cell_type": "code",
   "execution_count": 21,
   "metadata": {},
   "outputs": [],
   "source": [
    "def masked_softmax(X, valid_lens):\n",
    "    \"\"\"Perform softmax operation by masking elements on the last axis.\"\"\"\n",
    "    # `X`: 3D tensor, `valid_lens`: 1D or 2D tensor\n",
    "    if valid_lens is None:\n",
    "        return tf.nn.softmax(X, axis=-1)\n",
    "    else:\n",
    "        shape = X.shape\n",
    "        if len(valid_lens.shape) == 1:\n",
    "            valid_lens = tf.repeat(valid_lens, repeats=shape[1])\n",
    "\n",
    "        else:\n",
    "            valid_lens = tf.reshape(valid_lens, shape=-1)\n",
    "        # On the last axis, replace masked elements with a very large negative\n",
    "        # value, whose exponentiation outputs 0\n",
    "        X = mask_sequence(tf.reshape(X, shape=(-1, shape[-1])),\n",
    "                              valid_lens, value=-1e6)\n",
    "        return tf.nn.softmax(tf.reshape(X, shape=shape), axis=-1)"
   ]
  },
  {
   "cell_type": "code",
   "execution_count": 22,
   "metadata": {},
   "outputs": [],
   "source": [
    "class Attention_model(tf.keras.layers.Layer):\n",
    "    def __init__(self, num_hiddens, **kwargs):\n",
    "        super().__init__(**kwargs)\n",
    "        self.W_k = tf.keras.layers.Dense(1, use_bias=False)\n",
    "        \n",
    "\n",
    "    def call(self, keys, values, valid_lens, **kwargs):\n",
    "        keys=tf.expand_dims(keys,1)\n",
    "       \n",
    "        keys = self.W_k(keys)\n",
    "        features = tf.nn.tanh(keys)\n",
    "        \n",
    "        scores=tf.squeeze(features,axis=-1)\n",
    "        self.attention_weights = masked_softmax(scores, valid_lens)\n",
    "        \n",
    "        return self.attention_weights,tf.matmul(self.attention_weights,values)"
   ]
  },
  {
   "cell_type": "code",
   "execution_count": 28,
   "metadata": {},
   "outputs": [],
   "source": [
    "class Encoder(tf.keras.Model):\n",
    "    def __init__(self, input_vocab_size, embedding_dim, enc_units):\n",
    "        super(Encoder, self).__init__()\n",
    "        self.enc_units = enc_units\n",
    "        self.input_vocab_size = input_vocab_size\n",
    "\n",
    "        # The embedding layer converts tokens to vectors\n",
    "        self.embedding = tf.keras.layers.Embedding(self.input_vocab_size,\n",
    "                                                   embedding_dim)\n",
    "\n",
    "        # The GRU RNN layer processes those vectors sequentially.\n",
    "        self.gru = tf.keras.layers.GRU(self.enc_units,activation='tanh',\n",
    "                                       # Return the sequence and state\n",
    "                                       return_sequences=True,\n",
    "                                       return_state=True,\n",
    "                                       recurrent_initializer='glorot_uniform')\n",
    "        self.dense = tf.keras.layers.Dense(2, activation=None, name='classifier')\n",
    "    def call(self, tokens, state=None):\n",
    "        \n",
    "        valid_len=tf.reduce_sum(tf.cast(tokens!=0,tf.int16),axis=1)\n",
    "        mask=tokens!=0\n",
    "        \n",
    "        # 2. The embedding layer looks up the embedding for each token.\n",
    "        vectors = self.embedding(tokens)\n",
    "    \n",
    "        \n",
    "        \n",
    "        # 3. The GRU processes the embedding sequence.\n",
    "        #    output shape: (batch, s, enc_units)\n",
    "        #    state shape: (batch, enc_units)\n",
    "        output, state = self.gru(vectors,mask=mask)\n",
    "        key_size=output.shape[-1]\n",
    "        attention_model=Attention_model(64)\n",
    "        attention_weights,context_vec=attention_model(output,output,valid_len)\n",
    "        out=tf.reshape(context_vec,(context_vec.shape[0],-1))\n",
    "        \n",
    "        out=self.dense(out)\n",
    "        \n",
    "        # 4. Returns the new sequence and its state.\n",
    "        \n",
    "        return out,attention_weights"
   ]
  },
  {
   "cell_type": "code",
   "execution_count": 29,
   "metadata": {},
   "outputs": [],
   "source": [
    "embedding_dim=256\n",
    "units=512\n",
    "\n",
    "encoder = Encoder(len(word_index),\n",
    "                  embedding_dim, units)\n"
   ]
  },
  {
   "cell_type": "code",
   "execution_count": 30,
   "metadata": {},
   "outputs": [],
   "source": [
    "epochs = 6\n",
    "init_lr = 3e-4\n",
    "optimizer = tf.keras.optimizers.Adam()\n",
    "loss_fn = tf.keras.losses.CategoricalCrossentropy(from_logits=True)\n",
    "acc_metric=tf.keras.metrics.CategoricalAccuracy()\n"
   ]
  },
  {
   "cell_type": "code",
   "execution_count": 31,
   "metadata": {},
   "outputs": [
    {
     "name": "stdout",
     "output_type": "stream",
     "text": [
      "loss tf.Tensor(0.30901605, shape=(), dtype=float32)\n",
      "Accuracy over epoch 0,acc:0.7263000011444092\n",
      "loss tf.Tensor(0.16289563, shape=(), dtype=float32)\n",
      "Accuracy over epoch 1,acc:0.8694000244140625\n",
      "loss tf.Tensor(0.088192545, shape=(), dtype=float32)\n",
      "Accuracy over epoch 2,acc:0.8964999914169312\n",
      "loss tf.Tensor(0.08984621, shape=(), dtype=float32)\n",
      "Accuracy over epoch 3,acc:0.9057000279426575\n",
      "loss tf.Tensor(0.07259907, shape=(), dtype=float32)\n",
      "Accuracy over epoch 4,acc:0.8980000019073486\n",
      "loss tf.Tensor(0.042277087, shape=(), dtype=float32)\n",
      "Accuracy over epoch 5,acc:0.9179999828338623\n"
     ]
    }
   ],
   "source": [
    "for epoch in range(epochs):\n",
    "    for batch_idx,(x_batch,y_batch) in enumerate(train_batch):\n",
    "        with tf.GradientTape() as tape:\n",
    "        \n",
    "            y_pred,weights=encoder(x_batch,training=True)\n",
    "            loss=loss_fn(y_batch,y_pred)\n",
    "        \n",
    "        gradients=tape.gradient(loss,encoder.trainable_weights)\n",
    "        optimizer.apply_gradients(zip(gradients,encoder.trainable_weights))\n",
    "        acc_metric.update_state(y_batch,y_pred)\n",
    "    print(\"loss\",loss)\n",
    "    train_acc=acc_metric.result()\n",
    "    print(f\"Accuracy over epoch {epoch},acc:{train_acc}\")\n",
    "    acc_metric.reset_states()\n"
   ]
  },
  {
   "cell_type": "code",
   "execution_count": 74,
   "metadata": {},
   "outputs": [
    {
     "name": "stdout",
     "output_type": "stream",
     "text": [
      "Accuracy over test set tf.Tensor(0.802, shape=(), dtype=float32)\n"
     ]
    }
   ],
   "source": [
    "for batch_idx,(x_batch,y_batch) in enumerate(test_batch):\n",
    "    \n",
    "    y_pred,_=encoder(x_batch,training=True)\n",
    "    loss=loss_fn(y_batch,y_pred)\n",
    "    acc_metric.update_state(y_batch,y_pred)\n",
    "\n",
    "train_acc=acc_metric.result()\n",
    "print(\"Accuracy over test set\",train_acc)\n",
    "acc_metric.reset_states()"
   ]
  },
  {
   "cell_type": "code",
   "execution_count": 65,
   "metadata": {
    "scrolled": true
   },
   "outputs": [],
   "source": [
    "x='I rarely stop watching a movie although how crappy it is. Well for this one I made an exception since its beyond boring. I can not leave long reviews so this is it.. SKIP IT'"
   ]
  },
  {
   "cell_type": "code",
   "execution_count": 66,
   "metadata": {},
   "outputs": [],
   "source": [
    "text=x.replace(\",\",\" \")\n",
    "text=text.replace(\".\",\" \")\n",
    "len_=len(text.split())"
   ]
  },
  {
   "cell_type": "code",
   "execution_count": 67,
   "metadata": {},
   "outputs": [],
   "source": [
    "def inference(text):\n",
    "\n",
    "    example=[text]\n",
    "    seq=tokenizer.texts_to_sequences(example)\n",
    "    seq_pad=pad_sequences(seq, maxlen=max_length, padding=padding_type, truncating=trunc_type)\n",
    "    weight_array=[]\n",
    "    best_prob=0\n",
    "    for _ in range(75):\n",
    "        y_pred,weights=encoder(seq_pad,training=False)\n",
    "        pred=tf.keras.activations.softmax(y_pred)\n",
    "        prob=tf.reduce_max(pred)\n",
    "        if prob>best_prob:\n",
    "            attn_weights=weights\n",
    "            best_prob=prob\n",
    "    return attn_weights,pred\n",
    "    "
   ]
  },
  {
   "cell_type": "code",
   "execution_count": 68,
   "metadata": {},
   "outputs": [],
   "source": [
    "attn_weights,pred=inference(text)"
   ]
  },
  {
   "cell_type": "code",
   "execution_count": 69,
   "metadata": {},
   "outputs": [],
   "source": [
    "weights=attn_weights[0,0,:len_]"
   ]
  },
  {
   "cell_type": "code",
   "execution_count": 70,
   "metadata": {},
   "outputs": [],
   "source": [
    "pred_map={0:\"Negative\",1:\"Positive\"}\n",
    "prediction=np.argmax(pred.numpy())\n",
    "label=text.split()\n",
    "prediction_label=pred_map[prediction]"
   ]
  },
  {
   "cell_type": "code",
   "execution_count": 77,
   "metadata": {},
   "outputs": [
    {
     "data": {
      "image/png": "[encoded data removed]",
      "text/plain": [
       "<Figure size 720x1800 with 1 Axes>"
      ]
     },
     "metadata": {
      "needs_background": "light"
     },
     "output_type": "display_data"
    }
   ],
   "source": [
    "fig, ax = plt.subplots(figsize=(10,25))\n",
    "labels =  np.array(list(map(lambda x:[x],label))).reshape(weights.shape[0],1)\n",
    "plt.title(f\"prediction: {prediction_label}\")\n",
    "sns.heatmap(weights.numpy().reshape(weights.shape[0],1),annot_kws={\"fontsize\":12}, annot = labels, fmt = '',cmap=\"viridis\",ax=ax,cbar=False)\n",
    "plt.savefig(\"output.png\")\n",
    "plt.show()"
   ]
  },
  {
   "cell_type": "code",
   "execution_count": null,
   "metadata": {},
   "outputs": [],
   "source": []
  }
 ],
 "metadata": {
  "kernelspec": {
   "display_name": "Python 3 (ipykernel)",
   "language": "python",
   "name": "python3"
  },
  "language_info": {
   "codemirror_mode": {
    "name": "ipython",
    "version": 3
   },
   "file_extension": ".py",
   "mimetype": "text/x-python",
   "name": "python",
   "nbconvert_exporter": "python",
   "pygments_lexer": "ipython3",
   "version": "3.8.2"
  },
  "toc": {
   "base_numbering": 1,
   "nav_menu": {},
   "number_sections": true,
   "sideBar": true,
   "skip_h1_title": false,
   "title_cell": "Table of Contents",
   "title_sidebar": "Contents",
   "toc_cell": false,
   "toc_position": {},
   "toc_section_display": true,
   "toc_window_display": false
  }
 },
 "nbformat": 4,
 "nbformat_minor": 4
}
